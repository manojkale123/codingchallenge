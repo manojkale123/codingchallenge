{
  "nbformat": 4,
  "nbformat_minor": 0,
  "metadata": {
    "colab": {
      "name": "Mabda.ipynb",
      "provenance": [],
      "collapsed_sections": [],
      "authorship_tag": "ABX9TyONF1P+oj7N+bYhd2AhYIFl",
      "include_colab_link": true
    },
    "kernelspec": {
      "name": "python3",
      "display_name": "Python 3"
    }
  },
  "cells": [
    {
      "cell_type": "markdown",
      "metadata": {
        "id": "view-in-github",
        "colab_type": "text"
      },
      "source": [
        "<a href=\"https://colab.research.google.com/github/manojkale123/codingchallenge/blob/master/Mabda.ipynb\" target=\"_parent\"><img src=\"https://colab.research.google.com/assets/colab-badge.svg\" alt=\"Open In Colab\"/></a>"
      ]
    },
    {
      "cell_type": "code",
      "metadata": {
        "id": "zgio55BuePmI",
        "outputId": "01e9d2a2-f0d4-4794-df76-f3047993f6e9",
        "colab": {
          "base_uri": "https://localhost:8080/"
        }
      },
      "source": [
        "#lambda function\n",
        "\n",
        "#lambda we use in python as ananonymous(function without name)function.\n",
        "\n",
        "#lambda can take any number of arguments, but can only have one expression.\n",
        "\n",
        "x = lambda a,b,c:a + b+ c + 10\n",
        "print(x(5,2,4))\n",
        "\n",
        "add=lambda x,y: x*y\n",
        "print(add(10,2))\n",
        "\n",
        "\n",
        "def double(n):\n",
        "  return lambda a : a * n\n",
        "\n",
        "mul=double(2)\n",
        "print(mul(10))"
      ],
      "execution_count": null,
      "outputs": [
        {
          "output_type": "stream",
          "text": [
            "21\n",
            "20\n",
            "20\n"
          ],
          "name": "stdout"
        }
      ]
    }
  ]
}