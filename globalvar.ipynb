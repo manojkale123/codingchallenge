{
  "nbformat": 4,
  "nbformat_minor": 0,
  "metadata": {
    "colab": {
      "name": "globalvar.ipynb",
      "provenance": [],
      "collapsed_sections": [],
      "authorship_tag": "ABX9TyMk7BJkprU3lkeRcHkVCXwI",
      "include_colab_link": true
    },
    "kernelspec": {
      "name": "python3",
      "display_name": "Python 3"
    }
  },
  "cells": [
    {
      "cell_type": "markdown",
      "metadata": {
        "id": "view-in-github",
        "colab_type": "text"
      },
      "source": [
        "<a href=\"https://colab.research.google.com/github/manojkale123/codingchallenge/blob/master/globalvar.ipynb\" target=\"_parent\"><img src=\"https://colab.research.google.com/assets/colab-badge.svg\" alt=\"Open In Colab\"/></a>"
      ]
    },
    {
      "cell_type": "code",
      "metadata": {
        "id": "aieiWNph7dRm",
        "outputId": "245650df-ed27-45bd-b85b-6712625124c3",
        "colab": {
          "base_uri": "https://localhost:8080/"
        }
      },
      "source": [
        "print(\"hello world\")"
      ],
      "execution_count": 1,
      "outputs": [
        {
          "output_type": "stream",
          "text": [
            "hello world\n"
          ],
          "name": "stdout"
        }
      ]
    },
    {
      "cell_type": "code",
      "metadata": {
        "id": "GpplEK9bOg1I",
        "outputId": "99ee56c3-c063-497a-d42b-bc0ff35270e5",
        "colab": {
          "base_uri": "https://localhost:8080/"
        }
      },
      "source": [
        "a=10\n",
        "b=20\n",
        "\n",
        "def add():\n",
        "  global a\n",
        "  global b\n",
        "  global sum1\n",
        "  sum1=a+b\n",
        "  print(sum1)\n",
        "\n",
        "add()\n",
        "print(sum1)\n"
      ],
      "execution_count": 12,
      "outputs": [
        {
          "output_type": "stream",
          "text": [
            "30\n",
            "30\n"
          ],
          "name": "stdout"
        }
      ]
    },
    {
      "cell_type": "code",
      "metadata": {
        "id": "oABDkcoRR683",
        "outputId": "3a62b886-84b8-46cd-db1e-d93909505840",
        "colab": {
          "base_uri": "https://localhost:8080/"
        }
      },
      "source": [
        "x = 15\n",
        "def change(): \n",
        "  \n",
        "    # using a global keyword \n",
        "    global x \n",
        "  \n",
        "    # increment value of a by 5 \n",
        "    x = x + 5 \n",
        "    print(\"Value of x inside a function :\", x) \n",
        "change() \n",
        "print(\"Value of x outside a function :\", x) "
      ],
      "execution_count": 10,
      "outputs": [
        {
          "output_type": "stream",
          "text": [
            "Value of x inside a function : 20\n",
            "Value of x outside a function : 20\n"
          ],
          "name": "stdout"
        }
      ]
    }
  ]
}